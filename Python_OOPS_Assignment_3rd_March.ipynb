{
  "nbformat": 4,
  "nbformat_minor": 0,
  "metadata": {
    "colab": {
      "provenance": []
    },
    "kernelspec": {
      "name": "python3",
      "display_name": "Python 3"
    },
    "language_info": {
      "name": "python"
    }
  },
  "cells": [
    {
      "cell_type": "markdown",
      "source": [
        "## 1. What is Object-Oriented Programming (OOP)?"
      ],
      "metadata": {
        "id": "TJ9OAdYi2c54"
      }
    },
    {
      "cell_type": "markdown",
      "source": [
        "** Object-Oriented Programming (OOP) is a programming paradigm that organizes software design around \"objects,\" which are self-contained units that combine data (attributes) and the actions that can be performed on that data (methods), allowing for a more structured and modular approach to coding by modeling real-world entities as objects that interact with each other; key concepts include classes, inheritance, polymorphism, and encapsulation.\n",
        "\n",
        "**Key concepts in OOP include**:\n",
        "\n",
        "**Classes:** A class is like a blueprint for creating objects. It defines the\n",
        "properties (attributes) and behaviors (methods) that an object will have.\n",
        "For example, you might have a class called Car, which could have attributes like color and model, and methods like drive() or stop().\n",
        "\n",
        "**Objects**: An object is an instance of a class. When you create an object from a class, you say that you are instantiating that class. For example, if you have a Car class, creating a specific car object like myCar = Car('red', 'Toyota') is instantiating the class.\n",
        "\n",
        "**Encapsulation:** This is the concept of bundling the data (attributes) and methods (functions) that operate on the data within a class. Encapsulation hides the internal state of the object from the outside world, allowing you to control access to it through defined methods. This helps reduce complexity and increase security.\n",
        "\n",
        "**Inheritance:** Inheritance allows a new class (called a subclass) to inherit the properties and methods of an existing class (called a superclass). This allows for code reuse and the creation of hierarchical relationships between classes. For example, you could have a subclass ElectricCar that inherits from the Car class and adds additional features specific to electric vehicles.\n",
        "\n",
        "**Polymorphism:** Polymorphism allows objects of different classes to be treated as objects of a common superclass. It also allows methods to have the same name but behave differently depending on the object. For example, you could have a method drive() in both Car and Truck classes, but the method could perform different actions depending on the class of the object calling it.\n",
        "\n",
        "**Abstraction:** Abstraction is the concept of hiding the complex implementation details of a system and exposing only the essential features to the user. In OOP, this is typically achieved through abstract classes or interfaces, where only the method signatures are defined, and the implementation is left to the subclasses.\n",
        "\n",
        "**Why Use OOP?**\n",
        "\n",
        "**Modularity:** OOP promotes modularity by organizing code into smaller, reusable chunks (objects and classes), making it easier to maintain and extend.\n",
        "Code Reusability: Through inheritance, you can reuse common code in new classes without repeating yourself.\n",
        "\n",
        "**Flexibility and Maintainability:** Because objects encapsulate their data and behavior, OOP can make code easier to update and modify. If one part of the code changes, you don't necessarily need to change everything.\n",
        "\n",
        "**Real-World Modeling:** OOP is often a more intuitive way to model systems that reflect the real world, making it easier for developers to conceptualize and organize their code."
      ],
      "metadata": {
        "id": "Smo6A9JS2kuc"
      }
    },
    {
      "cell_type": "markdown",
      "source": [
        "## 2.  What is a class in OOP?"
      ],
      "metadata": {
        "id": "gV_s5zFb61G8"
      }
    },
    {
      "cell_type": "markdown",
      "source": [
        "** In Object-Oriented Programming (OOP), a class is a blueprint or template for creating objects. It defines a set of attributes (also called properties or fields) and methods (also called functions or behaviors) that the objects created from the class will have.\n",
        "\n",
        "**Key Concepts of a Class:**\n",
        "\n",
        "Attributes (Properties/Fields): These are variables that store the state of an object. For example, in a Car class, attributes could be color, make, and model.\n",
        "\n",
        "Methods (Functions/Behaviors): These are functions that define the behavior or actions that an object of the class can perform. For example, a Car class could have methods like start_engine() or accelerate().\n",
        "\n",
        "Encapsulation: A class helps bundle data (attributes) and methods that operate on the data into one unit. This also helps control access to the data by restricting direct modification through encapsulation techniques (like private/protected fields).\n",
        "\n",
        "Instantiation: A class itself is not an object, but a template for objects. You can create an instance of a class, which is an actual object with its own set of data and behavior.\n",
        "\n",
        "**Benefits of Using Classes:**\n",
        "Modularity, Reusability, Inheritance and Abstraction.\n"
      ],
      "metadata": {
        "id": "ImQk6DdoHwsQ"
      }
    },
    {
      "cell_type": "markdown",
      "source": [
        "## 3.  What is an object in OOP?\n",
        "\n",
        "** In Object-Oriented Programming (OOP), an object is an instance of a class. It represents a real-world entity or concept within the program. An object has two main characteristics:\n",
        "\n",
        "**Attributes (properties)**: These are variables that hold the state of the object. They describe the properties or data associated with the object.\n",
        "\n",
        "**Methods (functions):** These define the behavior or actions that the object can perform. Methods operate on the object's attributes or perform specific operations.\n",
        "\n"
      ],
      "metadata": {
        "id": "ycZl_VRgX5he"
      }
    },
    {
      "cell_type": "markdown",
      "source": [
        "## 4.  What is the difference between abstraction and encapsulation?\n",
        "\n",
        "\n",
        "** Abstraction and encapsulation are two core concepts in Object-Oriented Programming (OOP), and while they are related, they serve different purposes. Here's a breakdown of the differences:\n",
        "\n",
        "1. **Abstraction**:\n",
        "Abstraction is about hiding the complexity of the system and exposing only the essential features. The goal of abstraction is to simplify the interaction with an object by focusing on what an object does, rather than how it does it.\n",
        "\n",
        "*It hides unnecessary details and shows only relevant information.\n",
        "\n",
        "*It is typically achieved using abstract classes or interfaces, where you define methods or properties without implementing their logic. The implementation is left to the concrete classes that inherit from the abstract class or implement the interface.\n",
        "\n"
      ],
      "metadata": {
        "id": "lWtL2IRyZBnG"
      }
    },
    {
      "cell_type": "code",
      "source": [
        "from abc import ABC, abstractmethod\n",
        "\n",
        "class Animal(ABC):\n",
        "    @abstractmethod\n",
        "    def make_sound(self):\n",
        "        pass\n",
        "\n",
        "class Dog(Animal):\n",
        "    def make_sound(self):\n",
        "        return \"Bark\"\n",
        "\n",
        "class Cat(Animal):\n",
        "    def make_sound(self):\n",
        "        return \"Meow\"\n",
        "\n",
        "# You only interact with the make_sound method, not the details of each class.\n",
        "dog = Dog()\n",
        "print(dog.make_sound())\n",
        "\n"
      ],
      "metadata": {
        "colab": {
          "base_uri": "https://localhost:8080/"
        },
        "id": "SEoFm--wb9Kb",
        "outputId": "152b68ea-58ea-4514-f3b4-9331d67902b5"
      },
      "execution_count": null,
      "outputs": [
        {
          "output_type": "stream",
          "name": "stdout",
          "text": [
            "Bark\n"
          ]
        }
      ]
    },
    {
      "cell_type": "code",
      "source": [
        "cat = Cat()\n",
        "print(cat.make_sound())"
      ],
      "metadata": {
        "colab": {
          "base_uri": "https://localhost:8080/"
        },
        "id": "trOeBXtJcdnK",
        "outputId": "13132f15-cc95-4590-eb58-20280c3007ad"
      },
      "execution_count": null,
      "outputs": [
        {
          "output_type": "stream",
          "name": "stdout",
          "text": [
            "Meow\n"
          ]
        }
      ]
    },
    {
      "cell_type": "markdown",
      "source": [
        "2. **Encapsulation:** Encapsulation is about bundling data (attributes) and methods (functions) that operate on the data into a single unit, and restricting access to some of the object's components. The idea is to keep the object's state safe from unintended or harmful modifications by controlling how the data is accessed and modified.\n",
        "\n",
        "What does it do? It hides the internal state of the object and only exposes a controlled interface to interact with it.\n",
        "How is it achieved? It is achieved using access modifiers like private (_attribute or __attribute in Python) and public methods to get or set values (getter and setter methods).\n"
      ],
      "metadata": {
        "id": "FzFXL4cvcvpo"
      }
    },
    {
      "cell_type": "code",
      "source": [
        "class BankAccount:\n",
        "    def __init__(self, balance):\n",
        "        self.__balance = balance  # Private attribute\n",
        "\n",
        "    # Getter method for the balance\n",
        "    def get_balance(self):\n",
        "        return self.__balance\n",
        "\n",
        "    # Setter method to change the balance safely\n",
        "    def deposit(self, amount):\n",
        "        if amount > 0:\n",
        "            self.__balance += amount\n",
        "        else:\n",
        "            print(\"Deposit amount must be positive.\")\n",
        "\n",
        "    def withdraw(self, amount):\n",
        "        if amount > 0 and amount <= self.__balance:\n",
        "            self.__balance -= amount\n",
        "        else:\n",
        "            print(\"Invalid withdrawal amount.\")\n",
        "\n",
        "# Creating an object of BankAccount\n",
        "account = BankAccount(5000)\n",
        "print(account.get_balance())\n"
      ],
      "metadata": {
        "colab": {
          "base_uri": "https://localhost:8080/"
        },
        "id": "8puSBFJtciZe",
        "outputId": "f7d866c4-a0d7-4379-f8c0-a4affe210d79"
      },
      "execution_count": null,
      "outputs": [
        {
          "output_type": "stream",
          "name": "stdout",
          "text": [
            "5000\n"
          ]
        }
      ]
    },
    {
      "cell_type": "code",
      "source": [
        "# Modifying balance through methods\n",
        "account.deposit(1000)\n",
        "account.withdraw(3000)\n",
        "print(account.get_balance())"
      ],
      "metadata": {
        "colab": {
          "base_uri": "https://localhost:8080/"
        },
        "id": "kVgK_OvCd8D_",
        "outputId": "08dbf50e-ca5f-4bd0-894c-b1221cd7f6cd"
      },
      "execution_count": null,
      "outputs": [
        {
          "output_type": "stream",
          "name": "stdout",
          "text": [
            "3000\n"
          ]
        }
      ]
    },
    {
      "cell_type": "markdown",
      "source": [
        "   ## 5.  What are dunder methods in Python?\n",
        "\n",
        "   ** Dunder methods (short for \"double underscore\" methods) in Python are special methods that are used to define or customize the behavior of objects in specific situations. These methods are prefixed and suffixed with double underscores (__method_name__) and are also known as magic methods or special methods.\n",
        "\n",
        "They allow Python classes to define how they should behave in certain operations (like adding, subtracting, comparing, or printing objects). For example, the __init__ method is used to initialize objects, while __str__ defines how objects are represented when printed.\n",
        "\n"
      ],
      "metadata": {
        "id": "cJvagisZer2K"
      }
    },
    {
      "cell_type": "markdown",
      "source": [
        "## 6.  Explain the concept of inheritance in OOP.\n",
        "\n",
        "** Inheritance is a fundamental concept in Object-Oriented Programming (OOP) that allows a class to inherit properties and behaviors (methods) from another class. This helps to create a hierarchical relationship between classes, making it easier to reuse and extend functionality.\n",
        "\n",
        "**Types of Inheritance:**\n",
        "\n",
        "Single Inheritance: A class inherits from one parent class.\n",
        "\n",
        "Multiple Inheritance: A class inherits from more than one parent class.\n",
        "\n",
        "Multilevel Inheritance: A class inherits from another class, which itself inherits from another class.\n",
        "\n",
        "Hierarchical Inheritance: Multiple classes inherit from the same parent class.\n",
        "\n",
        "Hybrid Inheritance: A combination of multiple types of inheritance.\n",
        "\n",
        "\n",
        "\n",
        "* breakdown of the concept:\n",
        "\n",
        "1. Base Class:\n",
        "This is the class whose properties and methods are inherited by other classes.\n",
        "It contains general attributes and behaviors that can be shared by all its subclasses.\n",
        "Example: A Vehicle class could be the base class for various types of vehicles, such as cars, trucks, or bikes.\n",
        "\n",
        "2. Derived Class:\n",
        "This is the class that inherits from the parent class and can add its own specific attributes and methods.\n",
        "The child class inherits all the non-private properties and methods from the parent class, but it can override or extend them to suit its needs.\n",
        "Example: A Car class could inherit from the Vehicle class but add specific features like airConditioning or sunroof.\n",
        "\n",
        "3. Reusability:\n",
        "Inheritance promotes code reuse. Instead of writing common code for each class, you can write it once in the parent class and inherit it in multiple child classes.\n",
        "This makes the code more concise and easier to maintain.\n",
        "\n",
        "4. Overriding and Extending:\n",
        "Overriding: A child class can provide its own implementation of a method that is already defined in the parent class. This allows the child class to alter or extend the behavior inherited from the parent.\n",
        "Extending: The child class can also add new methods or properties that aren’t present in the parent class."
      ],
      "metadata": {
        "id": "E7NbAJGkkp4I"
      }
    },
    {
      "cell_type": "code",
      "source": [
        "# Parent class\n",
        "class Animal:\n",
        "    def __init__(self, name):\n",
        "        self.name = name\n",
        "\n",
        "    def speak(self):\n",
        "        return \"Animal sound\"\n",
        "\n",
        "# Child class\n",
        "class Dog(Animal):\n",
        "    def __init__(self, name, breed):\n",
        "        super().__init__(name)  # Call the parent class constructor\n",
        "        self.breed = breed\n",
        "\n",
        "    def speak(self):\n",
        "        return \"Bark\"  # Overriding the parent class method\n",
        "\n",
        "dog = Dog(\"Rio\", \"bull\")\n",
        "print(dog.name)  # Inherited from Animal class\n",
        "print(dog.breed)  # Specific to Dog class\n",
        "print(dog.speak())  # Calls the overridden method in Dog class\n"
      ],
      "metadata": {
        "colab": {
          "base_uri": "https://localhost:8080/"
        },
        "id": "qIS7N3EOePk2",
        "outputId": "cb20abd6-2a72-41cb-d849-3f38a7fc71e8"
      },
      "execution_count": null,
      "outputs": [
        {
          "output_type": "stream",
          "name": "stdout",
          "text": [
            "Rio\n",
            "bull\n",
            "Bark\n"
          ]
        }
      ]
    },
    {
      "cell_type": "markdown",
      "source": [
        "## 7. What is polymorphism in OOP?\n",
        "\n",
        "** Polymorphism refers to the ability of an object to take on multiple forms, meaning a single method name can be used to perform different operations depending on the type of object it is called on, allowing for code reusability and flexibility by treating different objects with the same interface in a consistent way; essentially, \"many forms\" in one operation.\n",
        "\n",
        "Key points about polymorphism:\n",
        "Derived from the Greek word \"polymorph\": Meaning \"many forms\".\n",
        "Implemented through inheritance and method overriding: Subclasses can redefine methods inherited from their parent class, allowing the same method name to behave differently based on the object type.\n",
        "\n",
        "Benefits:\n",
        "Code reusability: Write generic code that can work with different types of objects.\n",
        "Improved readability: Makes code more intuitive and easier to understand.\n",
        "Flexibility: Adapts to changing requirements by adding new classes without modifying existing code significantly.\n",
        "\n",
        "\n",
        "Example:\n",
        "\n",
        "\n",
        "Imagine a scenario where you have a \"Shape\" base class with a \"calculateArea\" method, and then create subclasses like \"Circle\", \"Square\", and \"Triangle\", each with their own implementation of the \"calculateArea\" method to calculate the area specific to their shape. When you call \"calculateArea\" on a variable that holds a \"Circle\" object, it will execute the \"Circle\" version of the method, and similarly for other shapes."
      ],
      "metadata": {
        "id": "azjCFvszn-8s"
      }
    },
    {
      "cell_type": "markdown",
      "source": [
        "## 8.  How is encapsulation achieved in Python?\n",
        "\n",
        "** Encapsulation in Python is achieved by using access modifiers, conventions, and naming conventions.\n",
        "\n",
        "Access modifiers\n",
        "\n",
        "\n",
        "Private\n",
        "Use a double underscore prefix (__), making the attribute private and inaccessible from outside the class\n",
        "\n",
        "\n",
        "Protected\n",
        "Use a single underscore prefix (_), making the attribute intended for internal use only within the class and its subclass\n",
        "\n",
        "\n",
        "Conventions\n",
        "\n",
        "* Python uses conventions and programming practices rather than enforced access modifiers\n",
        "\n",
        "\n",
        "* Adhering to these conventions is crucial for maintaining clean and maintainable code\n",
        "\n",
        "\n",
        "Naming conventions\n",
        "* Use naming conventions to distinguish between protected and private members\n",
        "* Add a double underscore in front of the variable and any function name to hide them when accessing them from out of the class\n",
        "\n",
        "\n",
        "Purpose of encapsulation\n",
        "\n",
        "* To protect an object's internal state and expose a controlled interface\n",
        "* To keep the class clean and organized\n",
        "* To clearly distinguish between what is meant for internal use and what is exposed to the outside world"
      ],
      "metadata": {
        "id": "Vsq0AP5RpPxV"
      }
    },
    {
      "cell_type": "markdown",
      "source": [
        "## 9. What is a constructor in Python?\n",
        "\n",
        "** In Python, a constructor is a special method used to initialize a newly created object. It is automatically called when a new instance of a class is created. The constructor is defined by the __init__ method, which stands for \"initialize.\"\n",
        "\n",
        "Key points about the constructor:\n",
        "\n",
        "* Naming: The constructor method is always named __init__, with two underscores before and after \"init\".\n",
        "* Automatic call: The __init__ method is called automatically when you create a new object of the class.\n",
        "* Self parameter: The __init__ method takes self as its first parameter, which refers to the current instance of the class.\n",
        "* Initialization: Inside the constructor, you typically initialize instance variables (attributes) using the values passed to the constructor.\n",
        "\n",
        "\n",
        "Example:"
      ],
      "metadata": {
        "id": "CslbPVi5qzR9"
      }
    },
    {
      "cell_type": "code",
      "source": [
        "class Car:\n",
        "    def __init__(self, make, model, year):\n",
        "        # This is the constructor\n",
        "        self.make = make\n",
        "        self.model = model\n",
        "        self.year = year\n",
        "\n",
        "    def display_info(self):\n",
        "        print(f\"{self.year} {self.make} {self.model}\")\n",
        "\n",
        "# Create a new Car object\n",
        "my_car = Car(\"Tesla\", \"Model S\", 2024)\n",
        "\n",
        "my_car.display_info()\n"
      ],
      "metadata": {
        "colab": {
          "base_uri": "https://localhost:8080/"
        },
        "id": "-59H1U0-nf6S",
        "outputId": "cbd99bd9-b081-4a4e-cceb-f401a0673a08"
      },
      "execution_count": null,
      "outputs": [
        {
          "output_type": "stream",
          "name": "stdout",
          "text": [
            "2024 Tesla Model S\n"
          ]
        }
      ]
    },
    {
      "cell_type": "markdown",
      "source": [
        "## 10.  What are class and static methods in Python?\n",
        "\n",
        "** In Python, class methods and static methods are two different types of methods that are associated with the class itself rather than instances of the class. They are defined using decorators and serve different purposes.\n",
        "\n",
        "**1. Class Method**\n",
        "\n",
        "A class method is a method that is bound to the class and not the instance of the class. It takes the class (cls) as its first argument instead of the instance (self). Class methods are often used for factory methods or methods that need to operate on the class itself, rather than on an instance.\n",
        "\n",
        "Decorator: @classmethod\n",
        "\n",
        "First argument: cls (the class itself)\n",
        "\n",
        "\n",
        "**2. Static Method**\n",
        "\n",
        "A static method is a method that doesn't take any special first argument like self or cls. It doesn't operate on the instance or the class directly. Static methods are typically used for utility functions that don’t modify object or class state but are logically tied to the class.\n",
        "\n",
        "Decorator: @staticmethod\n",
        "\n",
        "No special first argument (neither self nor cls)"
      ],
      "metadata": {
        "id": "-zsRFFABrqTX"
      }
    },
    {
      "cell_type": "markdown",
      "source": [
        "## 11.  What is method overloading in Python?\n",
        "\n",
        "** Method overloading in Python refers to the ability to define multiple methods with the same name but different arguments. This concept is commonly seen in other programming languages, but Python does not natively support it in the same way. In Python, if you define multiple methods with the same name, the last one will overwrite the previous ones.\n",
        "\n",
        "However, you can achieve method overloading-like behavior in Python using default arguments, variable-length arguments (*args and **kwargs), or manually checking the types and number of arguments within a single method.\n",
        "\n",
        "\n",
        "\n",
        "Example 1: Using Default Arguments:"
      ],
      "metadata": {
        "id": "Pypj2ShYsvgW"
      }
    },
    {
      "cell_type": "code",
      "source": [
        "class Example:\n",
        "    def greet(self, name=\"Guest\"):\n",
        "        print(f\"Hello, {name}!\")\n",
        "\n",
        "obj = Example()\n",
        "obj.greet()\n",
        "obj.greet(\"Daniel\")\n"
      ],
      "metadata": {
        "colab": {
          "base_uri": "https://localhost:8080/"
        },
        "id": "c0DXA6vsrhGF",
        "outputId": "a2f4d6cf-e9b1-4f42-c1db-ad8bcf9404e4"
      },
      "execution_count": null,
      "outputs": [
        {
          "output_type": "stream",
          "name": "stdout",
          "text": [
            "Hello, Guest!\n",
            "Hello, Daniel!\n"
          ]
        }
      ]
    },
    {
      "cell_type": "markdown",
      "source": [
        "Example 2: Using *args or **kwargs"
      ],
      "metadata": {
        "id": "epR8MsPxtuwZ"
      }
    },
    {
      "cell_type": "code",
      "source": [
        "class Example:\n",
        "    def add(self, *args):\n",
        "        return sum(args)\n",
        "\n",
        "obj = Example()\n",
        "print(obj.add(1, 2))\n",
        "print(obj.add(1, 2, 3, 4, 5))\n"
      ],
      "metadata": {
        "colab": {
          "base_uri": "https://localhost:8080/"
        },
        "id": "1RD6VqKUtoRT",
        "outputId": "14150f57-da48-43bb-cc1d-48ab5f30a025"
      },
      "execution_count": null,
      "outputs": [
        {
          "output_type": "stream",
          "name": "stdout",
          "text": [
            "3\n",
            "15\n"
          ]
        }
      ]
    },
    {
      "cell_type": "markdown",
      "source": [
        "Example 3: Checking Argument Types\n"
      ],
      "metadata": {
        "id": "8k7n07dOuFEg"
      }
    },
    {
      "cell_type": "code",
      "source": [
        "class Example:\n",
        "    def display(self, *args):\n",
        "        if len(args) == 1 and isinstance(args[0], str):\n",
        "            print(f\"String: {args[0]}\")\n",
        "        elif len(args) == 1 and isinstance(args[0], int):\n",
        "            print(f\"Integer: {args[0]}\")\n",
        "        else:\n",
        "            print(\"Invalid input\")\n",
        "\n",
        "obj = Example()\n",
        "obj.display(\"Hello\")\n",
        "obj.display(42)\n"
      ],
      "metadata": {
        "colab": {
          "base_uri": "https://localhost:8080/"
        },
        "id": "5yPE08qUt4BD",
        "outputId": "be51765c-ba11-4564-d528-3d70da87f2d1"
      },
      "execution_count": null,
      "outputs": [
        {
          "output_type": "stream",
          "name": "stdout",
          "text": [
            "String: Hello\n",
            "Integer: 42\n"
          ]
        }
      ]
    },
    {
      "cell_type": "markdown",
      "source": [
        "## 12. What is method overriding in OOP?\n",
        "\n",
        "** Method overriding in Object-Oriented Programming (OOP) refers to the concept where a subclass provides a specific implementation of a method that is already defined in its superclass. Essentially, the subclass \"overrides\" the inherited method to perform its own version of the operation.\n",
        "\n",
        "Here are the key points about method overriding:\n",
        "\n",
        "Same Method Signature: The method in the subclass must have the same name, return type, and parameters as the method in the superclass.\n",
        "\n",
        "Runtime Polymorphism: Method overriding is an example of runtime polymorphism or dynamic method dispatch, meaning that the method that gets called is determined at runtime based on the object's actual class type, not the reference type.\n",
        "\n",
        "Purpose: It allows a subclass to provide specific behavior for a method that is already defined in the superclass, thus giving the subclass the ability to customize or extend the functionality of the inherited method."
      ],
      "metadata": {
        "id": "gWu5r2EsuXq4"
      }
    },
    {
      "cell_type": "markdown",
      "source": [
        "## 13.  What is a property decorator in Python?\n",
        "\n",
        "** A property decorator in Python is a built-in function used to define a method as a property of a class. This allows you to define a getter, setter, and deleter for an attribute, making it possible to access, modify, or delete the attribute using the same syntax as accessing a regular attribute, without directly exposing the underlying method.\n",
        "\n",
        "The @property decorator is typically used to:\n",
        "\n",
        "Encapsulate data: You can create controlled access to an attribute, adding logic for getting, setting, or deleting the value.\n",
        "\n",
        "Make methods behave like attributes: It allows methods to be accessed like attributes, but still have the full power of methods behind the scenes.\n",
        "\n",
        "\n",
        "Key Points:\n",
        "\n",
        "\n",
        "Getter (@property): Makes a method behave like an attribute when accessed.\n",
        "\n",
        "Setter (@property.setter): Allows you to modify an attribute's value.\n",
        "\n",
        "Deleter (@property.deleter): Allows you to define custom behavior when an attribute is deleted.\n"
      ],
      "metadata": {
        "id": "m2g1zuSsu2MZ"
      }
    },
    {
      "cell_type": "code",
      "source": [
        "class Circle:\n",
        "    def __init__(self, radius):\n",
        "        self._radius = radius\n",
        "\n",
        "    @property\n",
        "    def radius(self):\n",
        "        return self._radius\n",
        "\n",
        "    @radius.setter\n",
        "    def radius(self, value):\n",
        "        if value < 0:\n",
        "            raise ValueError(\"Radius cannot be negative.\")\n",
        "        self._radius = value\n",
        "\n",
        "    @property\n",
        "    def area(self):\n",
        "        return 3.14159 * (self._radius ** 2)\n",
        "\n",
        "# Using the class\n",
        "circle = Circle(5)\n",
        "print(circle.radius)  # Calls the getter\n",
        "print(circle.area)  # Calls the area property method\n",
        "circle.radius = 10  # Calls the setter\n",
        "print(circle.area)  # Recalculates area based on new radius\n"
      ],
      "metadata": {
        "colab": {
          "base_uri": "https://localhost:8080/"
        },
        "id": "9Dw1wTAbuT-5",
        "outputId": "54d10f2f-1d5e-4302-ac82-ab121fe13d6c"
      },
      "execution_count": null,
      "outputs": [
        {
          "output_type": "stream",
          "name": "stdout",
          "text": [
            "5\n",
            "78.53975\n",
            "314.159\n"
          ]
        }
      ]
    },
    {
      "cell_type": "markdown",
      "source": [
        "## 14. Why is polymorphism important in OOP?\n",
        "\n",
        "** Polymorphism is a core concept in Object-Oriented Programming (OOP) because it enhances flexibility, scalability, and maintainability of code. Here's why it's so important:\n",
        "\n",
        "1. Code Reusability\n",
        "\n",
        "Polymorphism allows for the use of a common interface to interact with different types of objects. This means you can write functions, classes, or methods that work with objects of different types without needing to know their specific types ahead of time.\n",
        "\n",
        "For example: you can define a general function draw() that works for different shapes (e.g., circles, squares, triangles), and each shape class would have its own implementation of the draw() method.\n",
        "\n",
        "\n",
        "2. Simplified Code\n",
        "\n",
        "Without polymorphism, you might need to write several conditional statements (like if or switch statements) to handle different types of objects. Polymorphism eliminates this need and lets the method be dynamically dispatched at runtime based on the object's actual type.\n",
        "\n",
        "3. Flexibility and Extensibility\n",
        "\n",
        "Polymorphism allows for the extension of systems without modifying existing code. You can add new classes that implement the same methods or interfaces without altering the existing codebase.\n",
        "\n",
        "For example: if a system is designed to handle various types of media (e.g., videos, images, texts), you could add new media types later without changing the existing code structure.\n",
        "\n",
        "4. Decoupling\n",
        "\n",
        "It helps decouple the code. The code that uses polymorphism does not need to know the specific class of the object it is working with. It only needs to know the common interface that the objects implement. This makes systems easier to maintain and update.\n",
        "\n",
        "5. Encapsulation of Behavior\n",
        "\n",
        "Different objects might behave in different ways under the same method or message. Polymorphism allows each object to define its own behavior while still adhering to a common interface.\n",
        "For instance, you can have a method makeSound() that works differently depending on whether the object is a Dog or a Cat. A Dog might \"bark,\" while a Cat might \"meow.\"\n",
        "\n",
        "6. Design Patterns\n",
        "\n",
        "Many well-known design patterns, such as Factory Method, Strategy, and Command patterns, rely on polymorphism to create flexible and decoupled systems. By enabling interchangeable objects, polymorphism is key to implementing these patterns effectively."
      ],
      "metadata": {
        "id": "JXJL3FRlv22A"
      }
    },
    {
      "cell_type": "markdown",
      "source": [
        "## 15.  What is an abstract class in Python?\n",
        "\n",
        "** An abstract class in Python is a class that cannot be instantiated directly and is typically used as a blueprint for other classes. It can contain abstract methods, which are methods that are declared but not implemented in the abstract class itself. Subclasses that inherit from an abstract class are required to provide implementations for these abstract methods.\n",
        "\n",
        "You create an abstract class using the abc (Abstract Base Class) module in Python. The abstract class can also contain normal methods with implementations, in addition to abstract methods.\n",
        "\n",
        "Key Concepts:\n",
        "\n",
        "Abstract Method: A method that is declared but not implemented in the abstract class. Subclasses must implement this method.\n",
        "\n",
        "Abstract Class: A class that contains one or more abstract methods. You cannot instantiate an abstract class directly.\n",
        "\n",
        "Concrete Subclass: A class that inherits from an abstract class and provides implementations for all abstract methods."
      ],
      "metadata": {
        "id": "0LDgvwChwqsp"
      }
    },
    {
      "cell_type": "markdown",
      "source": [
        "## 16. What are the advantages of OOP?\n",
        "\n",
        "** Object-Oriented Programming (OOP) has several key advantages that make it a popular paradigm in software development. Here are some of the main benefits:\n",
        "\n",
        "1. Modularity\n",
        "\n",
        "Encapsulation: In OOP, you organize your code into \"objects,\" which bundle both data and methods that operate on that data. Each object is self-contained, meaning you can work on individual parts of your code (objects) independently of others.\n",
        "\n",
        "This promotes modularity, making it easier to maintain and extend your codebase.\n",
        "\n",
        "2. Reusability\n",
        "\n",
        "Inheritance: OOP allows one class to inherit from another, which means you can reuse common functionality without having to rewrite code. If you have a base class, you can extend it into subclasses with additional features or specific behavior.\n",
        "\n",
        "This reduces code duplication, leading to more efficient development.\n",
        "\n",
        "3. Scalability and Maintainability\n",
        "\n",
        "OOP makes it easier to scale your application as it grows. Because of the modular structure, you can add new objects (and classes) or modify existing ones without affecting the rest of the system too much.\n",
        "It also improves maintainability by encouraging clean, structured code. If a bug arises in a specific object, it’s easier to isolate and fix it.\n",
        "\n",
        "4. Abstraction\n",
        "\n",
        "Hiding Complexities: OOP allows you to hide complex implementation details behind simple interfaces (through abstraction). This means that the user or other parts of the system don’t need to know how a class works internally—they only need to know what methods and properties it exposes.\n",
        "This separation of concerns helps in simplifying the design and usage of complex systems.\n",
        "\n",
        "5. Flexibility through Polymorphism\n",
        "\n",
        "Polymorphism: This allows different objects to be treated as instances of the same class through a common interface, even if they behave differently.\n",
        "It helps to reduce complexity by allowing the same method to operate on different types of objects, leading to more flexible and extensible code.\n",
        "\n",
        "6. Easier Collaboration\n",
        "\n",
        "Since OOP promotes modularity and encapsulation, developers can work on different objects or components of the system simultaneously without stepping on each other's toes. This is great for team-based development and larger projects.\n",
        "\n",
        "7. Better Mapping to Real-World Problems\n",
        "\n",
        "OOP is often more intuitive because it allows developers to model software around real-world entities, such as objects, people, or systems. For example, a Car class in a software system may have properties like speed and engine, and methods like accelerate() and brake(), making the code easier to understand and maintain.\n",
        "\n",
        "8. Improved Debugging and Testing\n",
        "\n",
        "Because of encapsulation, objects are often easier to debug. If a bug occurs, you can trace it to a specific object and check its state and behavior without needing to examine the entire system.\n",
        "Unit testing becomes easier too since individual objects (or classes) can be tested in isolation.\n",
        "\n",
        "9. Security\n",
        "\n",
        "Access Modifiers: OOP provides mechanisms like private, protected, and public access modifiers, allowing you to control access to different parts of an object. This ensures that sensitive data or methods are not exposed to the rest of the system.\n",
        "\n",
        "10. Code Documentation\n",
        "\n",
        "OOP's clear structure allows for better documentation practices. Each object or class can be well-documented with its own responsibilities, methods, and properties, making it easier for others (or your future self) to understand the system quickly.\n"
      ],
      "metadata": {
        "id": "LDGeK6RHbE6t"
      }
    },
    {
      "cell_type": "markdown",
      "source": [
        "## 17. What is the difference between a class variable and an instance variable?\n",
        "\n",
        "** The difference between a class variable and an instance variable lies in how they are associated with the class and its instances:\n",
        "\n",
        "1. Class Variable:\n",
        "\n",
        "Defined on the class itself, not on any particular instance.\n",
        "Shared by all instances of the class. All instances refer to the same memory location for the class variable.\n",
        "\n",
        "You can access class variables through the class name or an instance, but changing a class variable via an instance can lead to confusion as it modifies the class variable itself for all instances.\n",
        "\n",
        "Example:"
      ],
      "metadata": {
        "id": "4N4Knu-mcKXy"
      }
    },
    {
      "cell_type": "code",
      "source": [
        "class Car:\n",
        "    # Class variable\n",
        "    wheels = 4  # All cars will have 4 wheels by default\n",
        "\n",
        "    def __init__(self, brand, model):\n",
        "        self.brand = brand  # Instance variable\n",
        "        self.model = model  # Instance variable\n",
        "\n",
        "# Create instances of the Car class\n",
        "car1 = Car(\"Toyota\", \"Corolla\")\n",
        "car2 = Car(\"Honda\", \"Civic\")\n",
        "\n",
        "# Accessing class variable through class and instances\n",
        "print(Car.wheels)  # 4, accessed via the class\n",
        "\n",
        "# Accessing class variable through instances\n",
        "print(car1.wheels)\n",
        "print(car2.wheels)\n",
        "\n",
        "\n"
      ],
      "metadata": {
        "id": "-P2d9kOgvxJO",
        "colab": {
          "base_uri": "https://localhost:8080/"
        },
        "outputId": "bcaabb57-7474-4e8c-9314-db68cc227b85"
      },
      "execution_count": 2,
      "outputs": [
        {
          "output_type": "stream",
          "name": "stdout",
          "text": [
            "4\n",
            "4\n",
            "4\n"
          ]
        }
      ]
    },
    {
      "cell_type": "code",
      "source": [
        "# Modifying class variable through the class\n",
        "Car.wheels = 5\n",
        "\n",
        "# After modifying, check the new value\n",
        "print(Car.wheels)\n",
        "print(car1.wheels)\n",
        "print(car2.wheels)"
      ],
      "metadata": {
        "colab": {
          "base_uri": "https://localhost:8080/"
        },
        "id": "PuKUAP5Cd3lc",
        "outputId": "1bab92a0-ee7b-4f3c-cf67-0801783175ab"
      },
      "execution_count": 3,
      "outputs": [
        {
          "output_type": "stream",
          "name": "stdout",
          "text": [
            "5\n",
            "5\n",
            "5\n"
          ]
        }
      ]
    },
    {
      "cell_type": "markdown",
      "source": [
        "2. Instance Variable:\n",
        "\n",
        "Defined inside the constructor (usually within the __init__() method) and is specific to each instance of the class.\n",
        "\n",
        "Every instance has its own copy of the instance variables, so modifying an instance variable in one object does not affect others.\n",
        "\n",
        "Example:"
      ],
      "metadata": {
        "id": "v5ROe1UFeODH"
      }
    },
    {
      "cell_type": "code",
      "source": [
        "class Person:\n",
        "    def __init__(self, name, age):\n",
        "        # Instance variables\n",
        "        self.name = name\n",
        "        self.age = age\n",
        "\n",
        "# Create instances of the Person class\n",
        "person1 = Person(\"Alice\", 30)\n",
        "person2 = Person(\"Bob\", 25)\n",
        "\n",
        "# Accessing instance variables\n",
        "print(person1.name)\n",
        "print(person1.age)\n",
        "print(person2.name)\n",
        "print(person2.age)\n"
      ],
      "metadata": {
        "colab": {
          "base_uri": "https://localhost:8080/"
        },
        "id": "5K-8NpxteLCx",
        "outputId": "92a02d10-d7da-40a4-9975-8199902d39ad"
      },
      "execution_count": 4,
      "outputs": [
        {
          "output_type": "stream",
          "name": "stdout",
          "text": [
            "Alice\n",
            "30\n",
            "Bob\n",
            "25\n"
          ]
        }
      ]
    },
    {
      "cell_type": "code",
      "source": [
        "# Modifying instance variables for one instance\n",
        "person1.age = 31\n",
        "\n",
        "# Checking the updated value for person1 and the unchanged value for person2\n",
        "print(person1.age)\n",
        "print(person2.age)"
      ],
      "metadata": {
        "colab": {
          "base_uri": "https://localhost:8080/"
        },
        "id": "vQoomCWhexeo",
        "outputId": "0cf08147-7fee-4f94-a027-5d0bfb981b0f"
      },
      "execution_count": 5,
      "outputs": [
        {
          "output_type": "stream",
          "name": "stdout",
          "text": [
            "31\n",
            "25\n"
          ]
        }
      ]
    },
    {
      "cell_type": "markdown",
      "source": [
        "## 18.  What is multiple inheritance in Python?\n",
        "\n",
        "** Multiple inheritance in Python is a feature that allows a class to inherit attributes and methods from more than one parent class. This means a child class can inherit behavior (methods and properties) from multiple base classes, rather than just a single class as in single inheritance.\n",
        "\n",
        "Example of Multiple Inheritance:"
      ],
      "metadata": {
        "id": "Ns2YzEr6fElA"
      }
    },
    {
      "cell_type": "code",
      "source": [
        "class Animal:\n",
        "    def speak(self):\n",
        "        print(\"Animal makes a sound\")\n",
        "\n",
        "class Dog:\n",
        "    def bark(self):\n",
        "        print(\"Dog barks\")\n",
        "\n",
        "# Multiple inheritance: Animal and Dog are both parent classes\n",
        "class Pet(Animal, Dog):\n",
        "    def play(self):\n",
        "        print(\"Pet is playing\")\n",
        "\n"
      ],
      "metadata": {
        "id": "U5r_g9xpe8BZ"
      },
      "execution_count": 7,
      "outputs": []
    },
    {
      "cell_type": "code",
      "source": [
        "# Creating an object of the Pet class\n",
        "pet = Pet()\n",
        "pet.speak()\n",
        "pet.bark()\n",
        "pet.play()\n"
      ],
      "metadata": {
        "colab": {
          "base_uri": "https://localhost:8080/"
        },
        "id": "Xk9tXSOPgIdI",
        "outputId": "3ca1b14d-d768-45c8-b4e3-8ba376473d6c"
      },
      "execution_count": 8,
      "outputs": [
        {
          "output_type": "stream",
          "name": "stdout",
          "text": [
            "Animal makes a sound\n",
            "Dog barks\n",
            "Pet is playing\n"
          ]
        }
      ]
    },
    {
      "cell_type": "markdown",
      "source": [
        "When to Use Multiple Inheritance:\n",
        "\n",
        "When a class needs to combine behaviors from different sources, but those behaviors don’t conflict.\n",
        "\n",
        "When modeling real-world relationships, like \"a Dog is both an Animal and a Pet,\n",
        "\n",
        "\" you might want to inherit behaviors from multiple base classes.\n",
        "While multiple inheritance is a powerful tool, it should be used carefully to avoid confusion or complex dependency chains."
      ],
      "metadata": {
        "id": "07yIRrqSghua"
      }
    },
    {
      "cell_type": "markdown",
      "source": [
        "## 19. Explain the purpose of ‘’__str__’ and ‘__repr__’ ‘ methods in Python?\n",
        "\n",
        "** In Python, __str__ and __repr__ are special methods that serve to define how objects of a class are represented as strings. Both are used to convert an object into a string, but they have different purposes and are used in different contexts.\n",
        "\n",
        "1. __str__:\n",
        "\n",
        "Purpose: The __str__ method is meant to define a \"user-friendly\" or \"informal\" string representation of an object. This is what you typically see when you print an object using print() or use str() on an object.\n",
        "\n",
        "When is it used?: It's called when you pass an object to print() or when you explicitly call str() on an object.\n",
        "\n",
        "Goal: To provide a readable or easily understandable string that describes the object, generally intended for end-users.\n",
        "\n",
        "Example:"
      ],
      "metadata": {
        "id": "qAjxQz0Mgoc2"
      }
    },
    {
      "cell_type": "code",
      "source": [
        "class Person:\n",
        "    def __init__(self, name, age):\n",
        "        self.name = name\n",
        "        self.age = age\n",
        "\n",
        "    def __str__(self):\n",
        "        return f\"{self.name}, {self.age} years old\"\n",
        "\n",
        "p = Person(\"Alice\", 30)\n",
        "print(p)\n"
      ],
      "metadata": {
        "colab": {
          "base_uri": "https://localhost:8080/"
        },
        "id": "ii7g3YSagNk1",
        "outputId": "2949466f-d57d-40cd-98d4-c0a3c9d2db46"
      },
      "execution_count": 9,
      "outputs": [
        {
          "output_type": "stream",
          "name": "stdout",
          "text": [
            "Alice, 30 years old\n"
          ]
        }
      ]
    },
    {
      "cell_type": "markdown",
      "source": [
        "2. __repr__:\n",
        "\n",
        "Purpose: The __repr__ method is designed to provide an \"official\" or \"unambiguous\" string representation of an object. The goal is for the string returned by __repr__ to be something that can, ideally, be used to recreate the object (or at least give as much useful information about the object as possible). If you invoke repr() or inspect an object in the interactive shell (like in a REPL), Python will use __repr__.\n",
        "\n",
        "When is it used?: It's called when you pass an object to repr(), or when you access an object in the interactive Python shell. If __str__ is not defined, __repr__ will also be used in contexts like print().\n",
        "\n",
        "Goal: To provide a more formal or detailed string representation, which may help in debugging or logging.\n",
        "\n",
        "Example:"
      ],
      "metadata": {
        "id": "5YnD0FzchaaU"
      }
    },
    {
      "cell_type": "code",
      "source": [
        "class Person:\n",
        "    def __init__(self, name, age):\n",
        "        self.name = name\n",
        "        self.age = age\n",
        "\n",
        "    def __repr__(self):\n",
        "        return f\"Person(name='{self.name}', age={self.age})\"\n",
        "\n",
        "p = Person(\"Alice\", 30)\n",
        "print(repr(p))\n"
      ],
      "metadata": {
        "colab": {
          "base_uri": "https://localhost:8080/"
        },
        "id": "WLPx1uCwhMS5",
        "outputId": "590062e0-f804-4f36-8a0a-309679b4015a"
      },
      "execution_count": 10,
      "outputs": [
        {
          "output_type": "stream",
          "name": "stdout",
          "text": [
            "Person(name='Alice', age=30)\n"
          ]
        }
      ]
    },
    {
      "cell_type": "markdown",
      "source": [
        "Key Differences:\n",
        "\n",
        "__str__ is meant for a user-friendly or informal representation, whereas __repr__ is intended to provide a more detailed and unambiguous string, primarily for developers.\n",
        "\n",
        "When you call print() or use str(), Python uses __str__. But if __str__ is not defined, it falls back on __repr__.\n",
        "\n",
        "Best practice: You should implement __repr__ to be unambiguous and ideally something that could be used to recreate the object (if possible), while __str__ is more for readability for the user."
      ],
      "metadata": {
        "id": "z1CEo5Sgh3BA"
      }
    },
    {
      "cell_type": "markdown",
      "source": [
        "## 20.  What is the significance of the ‘super()’ function in Python?\n",
        "\n",
        "** The super() function in Python is used to call methods from a parent class (also known as a superclass) within a subclass. It's commonly used in object-oriented programming (OOP) when dealing with inheritance, and it helps in extending or modifying behavior inherited from the parent class without needing to explicitly reference the parent class name.\n",
        "\n",
        "Here's why super() is significant:\n",
        "\n",
        "1. Calling Parent Class Methods\n",
        "\n",
        "The super() function allows a subclass to invoke methods from its parent class. This is helpful when you want to call a method from the parent but still retain the possibility of overriding it in the subclass.\n",
        "\n",
        "Example:"
      ],
      "metadata": {
        "id": "8hoDstYnh-lv"
      }
    },
    {
      "cell_type": "code",
      "source": [
        "class Animal:\n",
        "    def speak(self):\n",
        "        print(\"Animal makes a sound\")\n",
        "\n",
        "class Dog(Animal):\n",
        "    def speak(self):\n",
        "        super().speak()  # Calls Animal's speak method\n",
        "        print(\"Dog barks\")\n",
        "\n",
        "dog = Dog()\n",
        "dog.speak()\n"
      ],
      "metadata": {
        "colab": {
          "base_uri": "https://localhost:8080/"
        },
        "id": "Mag6zVg2hmli",
        "outputId": "ac1094f7-d3e1-41ec-b60a-6a6ba42a1b91"
      },
      "execution_count": 11,
      "outputs": [
        {
          "output_type": "stream",
          "name": "stdout",
          "text": [
            "Animal makes a sound\n",
            "Dog barks\n"
          ]
        }
      ]
    },
    {
      "cell_type": "markdown",
      "source": [
        "2. Avoiding Hardcoding Class Names\n",
        "\n",
        "super() allows you to avoid directly referring to the parent class by its name, which makes your code more flexible. If you later change the class hierarchy, you don't need to rewrite references to the parent class in every method that calls it.\n",
        "\n",
        "Example:"
      ],
      "metadata": {
        "id": "bgMUVHr8iuqw"
      }
    },
    {
      "cell_type": "code",
      "source": [
        "class Animal:\n",
        "    def speak(self):\n",
        "        print(\"Animal speaks\")\n",
        "\n",
        "class Dog(Animal):\n",
        "    def speak(self):\n",
        "        super().speak()\n",
        "        print(\"Dog barks\")\n",
        "\n",
        "class Bulldog(Dog):\n",
        "    def speak(self):\n",
        "        super().speak()  # super() will find the next class in the method resolution order\n",
        "        print(\"Bulldog growls\")\n"
      ],
      "metadata": {
        "id": "BJTqEF-0ijLF"
      },
      "execution_count": 14,
      "outputs": []
    },
    {
      "cell_type": "markdown",
      "source": [
        "3. Method Resolution Order (MRO)\n",
        "\n",
        "Python uses a Method Resolution Order (MRO) to determine the order in which methods are called in a class hierarchy. super() respects the MRO and makes sure the method calls are consistent across the inheritance chain.\n",
        "\n",
        "Example:\n"
      ],
      "metadata": {
        "id": "KW5pqq5JjKTQ"
      }
    },
    {
      "cell_type": "code",
      "source": [
        "class A:\n",
        "    def method(self):\n",
        "        print(\"Method from class A\")\n",
        "\n",
        "class B(A):\n",
        "    def method(self):\n",
        "        super().method()  # Calls A's method\n",
        "\n",
        "class C(A):\n",
        "    def method(self):\n",
        "        print(\"Method from class C\")\n",
        "\n",
        "class D(B, C):\n",
        "    def method(self):\n",
        "        super().method()  # Calls method from class B due to MRO\n",
        "\n",
        "d = D()\n",
        "d.method()\n"
      ],
      "metadata": {
        "colab": {
          "base_uri": "https://localhost:8080/"
        },
        "id": "lUuAdqlSi1rf",
        "outputId": "f67f6e8c-2cc9-4159-b461-b9a545a247fb"
      },
      "execution_count": 15,
      "outputs": [
        {
          "output_type": "stream",
          "name": "stdout",
          "text": [
            "Method from class C\n"
          ]
        }
      ]
    },
    {
      "cell_type": "markdown",
      "source": [
        "4. In Multiple Inheritance Scenarios\n",
        "\n",
        "In multiple inheritance scenarios, super() helps avoid problems like calling the same method from multiple parent classes. It ensures that every class in the inheritance chain gets a chance to call its method according to the MRO.\n",
        "\n",
        "5. Initialization of Parent Class (via __init__)\n",
        "\n",
        "In many cases, super() is used in the __init__ method to initialize the parent class when creating an object of a subclass.\n",
        "\n",
        "Example:"
      ],
      "metadata": {
        "id": "xFwXTUuCjgQj"
      }
    },
    {
      "cell_type": "code",
      "source": [
        "class Animal:\n",
        "    def __init__(self, name):\n",
        "        self.name = name\n",
        "\n",
        "class Dog(Animal):\n",
        "    def __init__(self, name, breed):\n",
        "        super().__init__(name)  # Calls Animal's __init__\n",
        "        self.breed = breed\n",
        "\n",
        "dog = Dog(\"Buddy\", \"Golden Retriever\")\n",
        "print(dog.name)\n",
        "print(dog.breed)\n"
      ],
      "metadata": {
        "colab": {
          "base_uri": "https://localhost:8080/"
        },
        "id": "VKBuHrzAjU6k",
        "outputId": "abc80d31-b5ed-4603-a7c9-e33df86ed9f0"
      },
      "execution_count": 16,
      "outputs": [
        {
          "output_type": "stream",
          "name": "stdout",
          "text": [
            "Buddy\n",
            "Golden Retriever\n"
          ]
        }
      ]
    },
    {
      "cell_type": "markdown",
      "source": [
        "6. Avoiding Redundant Code\n",
        "\n",
        "By using super(), you can avoid redundancy, especially when both the parent and the subclass need to perform some of the same operations.\n",
        "\n",
        "Summary\n",
        "\n",
        "super() is essential for calling methods from a parent class, especially in cases of inheritance and multiple inheritance.\n",
        "It helps keep the code flexible, reusable, and clean by avoiding hardcoding class names.\n",
        "\n",
        "The function plays a crucial role in following the MRO to ensure method calls happen in the correct order."
      ],
      "metadata": {
        "id": "wRjDe2jEj0mA"
      }
    },
    {
      "cell_type": "markdown",
      "source": [
        "## 21.  What is the significance of the __del__ method in Python?\n",
        "\n",
        "** In Python, the __del__ method is a special method that is used to define the behavior of an object when it is about to be destroyed (i.e., when it is garbage collected). It is commonly referred to as a destructor.\n",
        "\n",
        "Key Points:\n",
        "\n",
        "Purpose: The __del__ method is called when an object is about to be destroyed. It allows you to define cleanup behavior for objects before they are removed from memory. This can include releasing external resources, such as file handles, network connections, or database connections.\n",
        "\n",
        "Garbage Collection: Python uses automatic garbage collection to manage memory, and the __del__ method is called when an object’s reference count drops to zero, meaning it is no longer in use and can be safely cleaned up.\n",
        "\n",
        "Syntax: The __del__ method has the following basic structure:"
      ],
      "metadata": {
        "id": "dL5unGFkj6lz"
      }
    },
    {
      "cell_type": "code",
      "source": [
        "class MyClass:\n",
        "    def __del__(self):\n",
        "        print(\"Object is being destroyed\")\n"
      ],
      "metadata": {
        "id": "Mlvm9Slujo6U"
      },
      "execution_count": 17,
      "outputs": []
    },
    {
      "cell_type": "markdown",
      "source": [
        "Limitations & Considerations:\n",
        "\n",
        "Unpredictable Timing: You cannot predict exactly when the __del__ method will be called, since it depends on the garbage collector, which may not immediately destroy objects. This can be problematic if you need deterministic cleanup behavior (e.g., closing resources at a specific point in time).\n",
        "\n",
        "Circular References: If there are circular references (objects referring to each other), Python's garbage collector might not be able to reliably destroy the objects, and the __del__ method may not be called.\n",
        "\n",
        "Exceptions: If an exception occurs inside __del__, it is ignored, and Python doesn't propagate it. It’s best to avoid complex logic in __del__.\n",
        "\n",
        "Resource Management: For resource management like closing files or releasing network connections, it's often better to use context managers (i.e., the with statement) and the __enter__/__exit__ methods, as they provide more predictable resource management.\n",
        "\n",
        "Alternatives:\n",
        "Context Managers (with statement): The __del__ method is useful in some cases, but Python's context management system (using the with statement) provides a more reliable and readable way to manage resources.\n",
        "\n",
        "Explicit Cleanup: Instead of relying on __del__, you can explicitly define cleanup methods (e.g., close()) and call them when you're done with the object.\n",
        "In summary, while __del__ can be helpful for certain cleanup tasks, it's often better to use more explicit mechanisms (like context managers) to handle resource management in Python.\n",
        "\n",
        "\n",
        "\n"
      ],
      "metadata": {
        "id": "FsKJxHKRk8KI"
      }
    },
    {
      "cell_type": "markdown",
      "source": [
        "## 22.  What is the difference between @staticmethod and @classmethod in Python?\n",
        "\n",
        "** n Python, both @staticmethod and @classmethod are used to define methods that are bound to the class, not to an instance of the class. However, there are important differences between the two:\n",
        "\n",
        "@staticmethod\n",
        "\n",
        "A static method doesn't take self (instance) or cls (class) as its first parameter.\n",
        "\n",
        "It behaves like a regular function, but it belongs to the class's namespace.\n",
        "It doesn't have access to the instance (self) or class (cls), so it can only operate on the arguments passed to it.\n",
        "\n",
        "It's mainly used when a method doesn’t need access to class or instance-level data but is logically related to the class.\n",
        "\n",
        "Example:"
      ],
      "metadata": {
        "id": "uwhibBawlH6n"
      }
    },
    {
      "cell_type": "code",
      "source": [
        "class MathOperations:\n",
        "    @staticmethod\n",
        "    def add(x, y):\n",
        "        return x + y\n",
        "\n",
        "print(MathOperations.add(3, 5))\n"
      ],
      "metadata": {
        "colab": {
          "base_uri": "https://localhost:8080/"
        },
        "id": "OigcpIMukj4X",
        "outputId": "efd7a85c-a68a-443e-ceaf-f46e0b4e39b9"
      },
      "execution_count": 18,
      "outputs": [
        {
          "output_type": "stream",
          "name": "stdout",
          "text": [
            "8\n"
          ]
        }
      ]
    },
    {
      "cell_type": "markdown",
      "source": [
        "@classmethod\n",
        "\n",
        "A class method takes cls (the class itself) as its first parameter instead of self (the instance).\n",
        "\n",
        "It can modify the class state (i.e., class-level attributes) but cannot directly modify instance state.\n",
        "\n",
        "It is often used for factory methods, which can create instances of the class using different parameters.\n",
        "\n",
        "Example:"
      ],
      "metadata": {
        "id": "UAndJ4ejltgY"
      }
    },
    {
      "cell_type": "code",
      "source": [
        "class Person:\n",
        "    population = 0\n",
        "\n",
        "    def __init__(self, name):\n",
        "        self.name = name\n",
        "        Person.population += 1\n",
        "\n",
        "    @classmethod\n",
        "    def show_population(cls):\n",
        "        print(f\"Total population: {cls.population}\")\n",
        "\n",
        "p1 = Person(\"Alice\")\n",
        "p2 = Person(\"Bob\")\n",
        "\n",
        "Person.show_population()\n"
      ],
      "metadata": {
        "colab": {
          "base_uri": "https://localhost:8080/"
        },
        "id": "xV_YL-OHllTG",
        "outputId": "5603f0db-8f16-4670-a564-b67633dcba44"
      },
      "execution_count": 19,
      "outputs": [
        {
          "output_type": "stream",
          "name": "stdout",
          "text": [
            "Total population: 2\n"
          ]
        }
      ]
    },
    {
      "cell_type": "markdown",
      "source": [
        "Key Differences:\n",
        "\n",
        "Static Methods:\n",
        "\n",
        "Do not take self or cls.\n",
        "Cannot access or modify class or instance state.\n",
        "Used for utility functions that relate to the class but do not require access to its data.\n",
        "\n",
        "Class Methods:\n",
        "\n",
        "Take cls as the first argument.\n",
        "Can access or modify class state (i.e., class variables).\n",
        "Used for methods that need to operate on or modify class-level data, such as factory methods."
      ],
      "metadata": {
        "id": "ESGuYq34mCdV"
      }
    },
    {
      "cell_type": "markdown",
      "source": [
        "## 23.  How does polymorphism work in Python with inheritance?\n",
        "\n",
        "** In Python, polymorphism allows objects of different classes to be treated as objects of a common base class, and it enables methods to have different behaviors based on the object calling them. Polymorphism is a key feature of object-oriented programming (OOP) and works seamlessly with inheritance in Python.\n",
        "\n",
        "How Polymorphism Works in Python with Inheritance:\n",
        "\n",
        "Method Overriding: A subclass can provide a specific implementation of a method that is already defined in its parent class. This is called method overriding. When a method is called on an object of the subclass, the overridden version of the method is executed, even if the method was called through a reference to the parent class.\n",
        "\n",
        "Dynamic Typing: Python is dynamically typed, which means that the type of an object is determined at runtime. This gives us the flexibility to call methods on objects of different types, even if they are instances of different classes, as long as they share the same method name.\n",
        "\n",
        "Example:"
      ],
      "metadata": {
        "id": "tJ-IwTXnmKpF"
      }
    },
    {
      "cell_type": "code",
      "source": [
        "class Animal:\n",
        "    def speak(self):\n",
        "        print(\"Animal makes a sound\")\n",
        "\n",
        "class Dog(Animal):\n",
        "    def speak(self):\n",
        "        print(\"Dog barks\")\n",
        "\n",
        "class Cat(Animal):\n",
        "    def speak(self):\n",
        "        print(\"Cat meows\")\n",
        "\n",
        "# Polymorphism in action:\n",
        "def make_animal_speak(animal: Animal):\n",
        "    animal.speak()\n",
        "\n",
        "# Creating instances\n",
        "dog = Dog()\n",
        "cat = Cat()\n",
        "\n",
        "# Polymorphic behavior\n",
        "make_animal_speak(dog)\n",
        "make_animal_speak(cat)"
      ],
      "metadata": {
        "colab": {
          "base_uri": "https://localhost:8080/"
        },
        "id": "EosMwCUSl3K-",
        "outputId": "207686d8-cbe3-4048-d8de-f702f184bdbe"
      },
      "execution_count": 20,
      "outputs": [
        {
          "output_type": "stream",
          "name": "stdout",
          "text": [
            "Dog barks\n",
            "Cat meows\n"
          ]
        }
      ]
    },
    {
      "cell_type": "markdown",
      "source": [
        "Explanation:\n",
        "\n",
        "Base Class (Animal): The Animal class defines a speak() method. This is the method that the subclasses (Dog and Cat) will override.\n",
        "\n",
        "Subclass (Dog and Cat): Both Dog and Cat classes override the speak() method to provide their own specific implementation.\n",
        "\n",
        "Polymorphism: The make_animal_speak() function accepts any object that is an instance of the Animal class (or its subclasses). When you pass a Dog or Cat object to make_animal_speak(), the correct speak() method (based on the object type) is invoked.\n",
        "\n",
        "This is the essence of polymorphism: different classes can have methods with the same name, but the behavior can vary depending on the object's class."
      ],
      "metadata": {
        "id": "87R5FU-lnIS3"
      }
    },
    {
      "cell_type": "markdown",
      "source": [
        "## 24. What is method chaining in Python OOP?\n",
        "\n",
        "** Method chaining in Python refers to the practice of calling multiple methods on the same object in a single line of code. Each method call returns the object itself (or another object that supports further method calls), allowing for a sequence of operations to be \"chained\" together.\n",
        "\n",
        "This approach is commonly used in Object-Oriented Programming (OOP) to make the code more concise and readable, especially when performing multiple actions on the same object.\n",
        "\n",
        "Example:"
      ],
      "metadata": {
        "id": "v6mDHhV9nHzZ"
      }
    },
    {
      "cell_type": "code",
      "source": [
        "class Calculator:\n",
        "    def __init__(self, value=0):\n",
        "        self.value = value\n",
        "\n",
        "    def add(self, num):\n",
        "        self.value += num\n",
        "        return self  # Return the object itself to allow chaining\n",
        "\n",
        "    def subtract(self, num):\n",
        "        self.value -= num\n",
        "        return self  # Return the object itself to allow chaining\n",
        "\n",
        "    def multiply(self, num):\n",
        "        self.value *= num\n",
        "        return self  # Return the object itself to allow chaining\n",
        "\n",
        "    def get_result(self):\n",
        "        return self.value\n",
        "\n",
        "# Method chaining example\n",
        "calc = Calculator()\n",
        "result = calc.add(5).subtract(3).multiply(2).get_result()\n",
        "print(result)  # Output: 4\n"
      ],
      "metadata": {
        "colab": {
          "base_uri": "https://localhost:8080/"
        },
        "id": "TGMTZ9Onm5Zq",
        "outputId": "0a1c0939-5ab5-4c1e-d817-f5ce3a9e22ea"
      },
      "execution_count": 21,
      "outputs": [
        {
          "output_type": "stream",
          "name": "stdout",
          "text": [
            "4\n"
          ]
        }
      ]
    },
    {
      "cell_type": "markdown",
      "source": [
        "Advantages of Method Chaining:\n",
        "\n",
        "Concise Code: You can perform multiple operations on an object in one line of code.\n",
        "\n",
        "Improved Readability: It can make the code look cleaner and more expressive, especially when the operations are logically related.\n",
        "\n",
        "Fluent Interfaces: It allows for creating fluent interfaces, a design pattern that makes code more readable and intuitive."
      ],
      "metadata": {
        "id": "tw5wRiYZobFp"
      }
    },
    {
      "cell_type": "markdown",
      "source": [
        "## 25. What is the purpose of the __call__ method in Python?\n",
        "\n",
        "** In Python, the __call__ method is a special method that allows an instance of a class to be \"called\" as if it were a function. When you define the __call__ method in a class, you are essentially enabling the objects of that class to behave like callable functions.\n",
        "\n",
        "Here's how it works:\n",
        "\n",
        "When you create an instance of the class and try to \"call\" that instance using parentheses (e.g., instance()), Python internally looks for the __call__ method and executes it.\n",
        "\n",
        "The __call__ method can take any arguments, just like a regular function.\n",
        "\n",
        "Example:"
      ],
      "metadata": {
        "id": "qi8HLYP-o5b9"
      }
    },
    {
      "cell_type": "code",
      "source": [
        "class Adder:\n",
        "    def __init__(self, value):\n",
        "        self.value = value\n",
        "\n",
        "    def __call__(self, other_value):\n",
        "        return self.value + other_value\n",
        "\n",
        "# Creating an instance of Adder\n",
        "add_five = Adder(5)\n",
        "\n",
        "# Calling the instance as if it's a function\n",
        "result = add_five(10)  # This will invoke __call__()\n",
        "\n",
        "print(result)\n"
      ],
      "metadata": {
        "colab": {
          "base_uri": "https://localhost:8080/"
        },
        "id": "lLI90xkroMbm",
        "outputId": "ede678ed-c6c8-4150-ca16-40cd1f86a7df"
      },
      "execution_count": 22,
      "outputs": [
        {
          "output_type": "stream",
          "name": "stdout",
          "text": [
            "15\n"
          ]
        }
      ]
    },
    {
      "cell_type": "markdown",
      "source": [
        "Purpose of __call__:\n",
        "\n",
        "Making objects callable: It allows you to use an object like a function, which can make your code cleaner and more intuitive.\n",
        "\n",
        "Custom behavior: You can define custom behavior for when an object is called, which might depend on instance variables or other logic in the class.\n",
        "\n",
        "Functional programming style: It can be used to implement things like function objects, currying, or decorators."
      ],
      "metadata": {
        "id": "rEwgpGmlpllo"
      }
    },
    {
      "cell_type": "markdown",
      "source": [
        "**PRACTICAL QUESTIONS**"
      ],
      "metadata": {
        "id": "uuVYl5X2qN5r"
      }
    },
    {
      "cell_type": "markdown",
      "source": [
        "## 1.  Create a parent class Animal with a method speak() that prints a generic message. Create a child class Dog that overrides the speak() method to print \"Bark!\"."
      ],
      "metadata": {
        "id": "S2vqZAr8qUzu"
      }
    },
    {
      "cell_type": "code",
      "source": [
        "# Parent class\n",
        "class Animal:\n",
        "    def speak(self):\n",
        "        print(\"Animal makes a sound\")\n",
        "\n",
        "# Child class\n",
        "class Dog(Animal):\n",
        "    def speak(self):\n",
        "        print(\"Bark!\")\n",
        "\n",
        "# Test the classes\n",
        "animal = Animal()\n",
        "animal.speak()\n",
        "\n",
        "dog = Dog()\n",
        "dog.speak()\n"
      ],
      "metadata": {
        "colab": {
          "base_uri": "https://localhost:8080/"
        },
        "id": "_qKCenPGpXvh",
        "outputId": "51bd6185-b660-4c85-92bc-568aa82a53d3"
      },
      "execution_count": 23,
      "outputs": [
        {
          "output_type": "stream",
          "name": "stdout",
          "text": [
            "Animal makes a sound\n",
            "Bark!\n"
          ]
        }
      ]
    },
    {
      "cell_type": "markdown",
      "source": [
        "## 2.  Write a program to create an abstract class Shape with a method area(). Derive classes Circle and Rectangle from it and implement the area() method in both."
      ],
      "metadata": {
        "id": "GToi_ztsq42F"
      }
    },
    {
      "cell_type": "code",
      "source": [
        "\n",
        "# Abstract class Shape\n",
        "class Shape(ABC):\n",
        "    @abstractmethod\n",
        "    def area(self):\n",
        "        pass\n",
        "\n",
        "# Derived class Circle\n",
        "class Circle(Shape):\n",
        "    def __init__(self, radius):\n",
        "        self.radius = radius\n",
        "\n",
        "    def area(self):\n",
        "        return math.pi * self.radius ** 2\n",
        "\n",
        "# Derived class Rectangle\n",
        "class Rectangle(Shape):\n",
        "    def __init__(self, width, height):\n",
        "        self.width = width\n",
        "        self.height = height\n",
        "\n",
        "    def area(self):\n",
        "        return self.width * self.height\n",
        "\n",
        "circle = Circle(5)\n",
        "print(f\"Area of the circle: {circle.area()}\")\n",
        "\n",
        "rectangle = Rectangle(4, 6)\n",
        "print(f\"Area of the rectangle: {rectangle.area()}\")\n"
      ],
      "metadata": {
        "colab": {
          "base_uri": "https://localhost:8080/"
        },
        "id": "G7gQ5VMFqqqV",
        "outputId": "0efa60a8-2589-49e6-b711-e52cbf2f15aa"
      },
      "execution_count": 24,
      "outputs": [
        {
          "output_type": "stream",
          "name": "stdout",
          "text": [
            "Area of the circle: 78.53981633974483\n",
            "Area of the rectangle: 24\n"
          ]
        }
      ]
    },
    {
      "cell_type": "markdown",
      "source": [
        "## 3.  Implement a multi-level inheritance scenario where a class Vehicle has an attribute type. Derive a class Car and further derive a class ElectricCar that adds a battery attribute.\n",
        "\n",
        "\n",
        "** An implementation of multi-level inheritance where the class Vehicle has an attribute type, the Car class inherits from Vehicle, and the ElectricCar class further inherits from Car while adding a battery attribute:"
      ],
      "metadata": {
        "id": "qGx4W7Wmrp86"
      }
    },
    {
      "cell_type": "code",
      "source": [
        "# Base class Vehicle\n",
        "class Vehicle:\n",
        "    def __init__(self, vehicle_type):\n",
        "        self.vehicle_type = vehicle_type\n",
        "\n",
        "    def display_type(self):\n",
        "        return f\"Vehicle Type: {self.vehicle_type}\"\n",
        "\n",
        "# Derived class Car\n",
        "class Car(Vehicle):\n",
        "    def __init__(self, vehicle_type, brand, model):\n",
        "        # Call the parent class constructor to initialize the vehicle_type\n",
        "        super().__init__(vehicle_type)\n",
        "        self.brand = brand\n",
        "        self.model = model\n",
        "\n",
        "    def display_car_info(self):\n",
        "        return f\"Car Info: {self.brand} {self.model}\"\n",
        "\n",
        "# Further derived class ElectricCar\n",
        "class ElectricCar(Car):\n",
        "    def __init__(self, vehicle_type, brand, model, battery_capacity):\n",
        "        # Call the parent class constructor to initialize vehicle_type, brand, and model\n",
        "        super().__init__(vehicle_type, brand, model)\n",
        "        self.battery_capacity = battery_capacity\n",
        "\n",
        "    def display_battery_info(self):\n",
        "        return f\"Battery Capacity: {self.battery_capacity} kWh\"\n",
        "\n",
        "# Creating an instance of ElectricCar\n",
        "my_ev = ElectricCar(\"Electric\", \"Tesla\", \"Model 3\", 75)\n",
        "\n",
        "# Displaying the information\n",
        "print(my_ev.display_type())\n",
        "print(my_ev.display_car_info())\n",
        "print(my_ev.display_battery_info())\n"
      ],
      "metadata": {
        "colab": {
          "base_uri": "https://localhost:8080/"
        },
        "id": "l-dxEsMXrZMn",
        "outputId": "6f3c7585-7a6d-4acb-d691-a4e213b32252"
      },
      "execution_count": 25,
      "outputs": [
        {
          "output_type": "stream",
          "name": "stdout",
          "text": [
            "Vehicle Type: Electric\n",
            "Car Info: Tesla Model 3\n",
            "Battery Capacity: 75 kWh\n"
          ]
        }
      ]
    },
    {
      "cell_type": "markdown",
      "source": [
        "## 4.  Demonstrate polymorphism by creating a base class Bird with a method fly(). Create two derived classes Sparrow and Penguin that override the fly() method.\n",
        "\n",
        "** demonstrating polymorphism in Python. The base class Bird has a method fly(), which is overridden by two derived classes Sparrow and Penguin to implement their own versions of fly():"
      ],
      "metadata": {
        "id": "MsRJoVVLsSRd"
      }
    },
    {
      "cell_type": "code",
      "source": [
        "# Base class\n",
        "class Bird:\n",
        "    def fly(self):\n",
        "        print(\"This bird can fly.\")\n",
        "\n",
        "# Derived class Sparrow\n",
        "class Sparrow(Bird):\n",
        "    def fly(self):\n",
        "        print(\"The sparrow flies high in the sky.\")\n",
        "\n",
        "# Derived class Penguin\n",
        "class Penguin(Bird):\n",
        "    def fly(self):\n",
        "        print(\"The penguin can't fly, but it swims well.\")\n",
        "\n",
        "# Function to demonstrate polymorphism\n",
        "def test_flying(bird):\n",
        "    bird.fly()\n",
        "\n",
        "# Creating objects\n",
        "sparrow = Sparrow()\n",
        "penguin = Penguin()\n",
        "\n",
        "# Polymorphic behavior\n",
        "test_flying(sparrow)\n",
        "test_flying(penguin)\n"
      ],
      "metadata": {
        "colab": {
          "base_uri": "https://localhost:8080/"
        },
        "id": "yqCCxHyssG5J",
        "outputId": "f992b181-8721-4c4a-bf59-ef37e5cfbc7a"
      },
      "execution_count": 26,
      "outputs": [
        {
          "output_type": "stream",
          "name": "stdout",
          "text": [
            "The sparrow flies high in the sky.\n",
            "The penguin can't fly, but it swims well.\n"
          ]
        }
      ]
    },
    {
      "cell_type": "markdown",
      "source": [
        "## 5.  Write a program to demonstrate encapsulation by creating a class BankAccount with private attributes balance and methods to deposit, withdraw, and check balance.\n",
        "\n",
        "** Python program demonstrating encapsulation using a BankAccount class with private attributes and methods to deposit, withdraw, and check the balance.\n"
      ],
      "metadata": {
        "id": "4cBqO4eYs8OG"
      }
    },
    {
      "cell_type": "code",
      "source": [
        "class BankAccount:\n",
        "    def __init__(self, initial_balance=0):\n",
        "        # Private attribute (encapsulation)\n",
        "        self.__balance = initial_balance\n",
        "\n",
        "    # Public method to deposit money\n",
        "    def deposit(self, amount):\n",
        "        if amount > 0:\n",
        "            self.__balance += amount\n",
        "            print(f\"Deposited: ₹{amount}\")\n",
        "        else:\n",
        "            print(\"Deposit amount must be greater than zero.\")\n",
        "\n",
        "    # Public method to withdraw money\n",
        "    def withdraw(self, amount):\n",
        "        if amount > 0:\n",
        "            if self.__balance >= amount:\n",
        "                self.__balance -= amount\n",
        "                print(f\"Withdrew: ₹{amount}\")\n",
        "            else:\n",
        "                print(\"Insufficient funds!\")\n",
        "        else:\n",
        "            print(\"Withdrawal amount must be greater than zero.\")\n",
        "\n",
        "    # Public method to check the balance\n",
        "    def get_balance(self):\n",
        "        return f\"Current Balance: ₹{self.__balance}\"\n",
        "\n",
        "# Testing the BankAccount class\n",
        "if __name__ == \"__main__\":\n",
        "    # Create an account with an initial balance\n",
        "    account = BankAccount(1000)\n",
        "\n",
        "    # Display the initial balance\n",
        "    print(account.get_balance())\n",
        "\n",
        "    # Deposit money\n",
        "    account.deposit(500)\n",
        "    print(account.get_balance())\n",
        "\n",
        "    # Withdraw money\n",
        "    account.withdraw(300)\n",
        "    print(account.get_balance())\n",
        "\n",
        "    # Try withdrawing more money than the current balance\n",
        "    account.withdraw(1500)\n",
        "    print(account.get_balance())\n",
        "\n",
        "    # Deposit a negative amount (invalid)\n",
        "    account.deposit(-100)\n",
        "    print(account.get_balance())\n"
      ],
      "metadata": {
        "colab": {
          "base_uri": "https://localhost:8080/"
        },
        "id": "9eJ196jwsznG",
        "outputId": "1bbdc189-413e-4abb-a510-248657afc292"
      },
      "execution_count": 28,
      "outputs": [
        {
          "output_type": "stream",
          "name": "stdout",
          "text": [
            "Current Balance: ₹1000\n",
            "Deposited: ₹500\n",
            "Current Balance: ₹1500\n",
            "Withdrew: ₹300\n",
            "Current Balance: ₹1200\n",
            "Insufficient funds!\n",
            "Current Balance: ₹1200\n",
            "Deposit amount must be greater than zero.\n",
            "Current Balance: ₹1200\n"
          ]
        }
      ]
    },
    {
      "cell_type": "markdown",
      "source": [
        "## 6.  Demonstrate runtime polymorphism using a method play() in a base class Instrument. Derive classes Guitar and Piano that implement their own version of play()"
      ],
      "metadata": {
        "id": "i3n7CiZHukoz"
      }
    },
    {
      "cell_type": "code",
      "source": [
        "# Base class\n",
        "class Instrument:\n",
        "    def play(self):\n",
        "        print(\"Playing instrument\")\n",
        "\n",
        "# Derived class Guitar\n",
        "class Guitar(Instrument):\n",
        "    def play(self):\n",
        "        print(\"Playing guitar\")\n",
        "\n",
        "# Derived class Piano\n",
        "class Piano(Instrument):\n",
        "    def play(self):\n",
        "        print(\"Playing piano\")\n",
        "\n",
        "# Demonstrating runtime polymorphism\n",
        "def demonstrate_polymorphism():\n",
        "    # Creating instances of Guitar and Piano\n",
        "    instrument = Guitar()  # Reference of type Instrument but object is a Guitar\n",
        "    instrument.play()  # Calls play() from Guitar class\n",
        "\n",
        "    instrument = Piano()\n",
        "    instrument.play()\n",
        "\n",
        "demonstrate_polymorphism()\n"
      ],
      "metadata": {
        "colab": {
          "base_uri": "https://localhost:8080/"
        },
        "id": "bCjnYkWAtv5X",
        "outputId": "61365f8a-ce60-4594-c2d3-fb327bfd06ef"
      },
      "execution_count": 29,
      "outputs": [
        {
          "output_type": "stream",
          "name": "stdout",
          "text": [
            "Playing guitar\n",
            "Playing piano\n"
          ]
        }
      ]
    },
    {
      "cell_type": "markdown",
      "source": [
        "## 7.  Create a class MathOperations with a class method add_numbers() to add two numbers and a static method subtract_numbers() to subtract two numbers.\n"
      ],
      "metadata": {
        "id": "f4Y7f75-v8fj"
      }
    },
    {
      "cell_type": "code",
      "source": [
        "class MathOperations:\n",
        "\n",
        "    @classmethod\n",
        "    def add_numbers(cls, num1, num2):\n",
        "        return num1 + num2\n",
        "\n",
        "    @staticmethod\n",
        "    def subtract_numbers(num1, num2):\n",
        "        return num1 - num2\n"
      ],
      "metadata": {
        "id": "SiioixRHu_0H"
      },
      "execution_count": 30,
      "outputs": []
    },
    {
      "cell_type": "code",
      "source": [
        "# Using the class method to add numbers\n",
        "result_add = MathOperations.add_numbers(5, 3)\n",
        "print(\"Addition Result:\", result_add)\n",
        "\n",
        "# Using the static method to subtract numbers\n",
        "result_subtract = MathOperations.subtract_numbers(5, 3)\n",
        "print(\"Subtraction Result:\", result_subtract)\n"
      ],
      "metadata": {
        "colab": {
          "base_uri": "https://localhost:8080/"
        },
        "id": "-U48l6-JxYN0",
        "outputId": "523500b5-7d2e-495f-b23d-d7568d0ee75e"
      },
      "execution_count": 31,
      "outputs": [
        {
          "output_type": "stream",
          "name": "stdout",
          "text": [
            "Addition Result: 8\n",
            "Subtraction Result: 2\n"
          ]
        }
      ]
    },
    {
      "cell_type": "markdown",
      "source": [
        "## 8.  Implement a class Person with a class method to count the total number of persons created."
      ],
      "metadata": {
        "id": "Zgd4DhXQysx7"
      }
    },
    {
      "cell_type": "code",
      "source": [
        "class Person:\n",
        "    # Class variable to keep track of the number of Person instances\n",
        "    total_persons = 0\n",
        "\n",
        "    def __init__(self, name, age):\n",
        "        self.name = name\n",
        "        self.age = age\n",
        "        # Increment the total count whenever a new person is created\n",
        "        Person.total_persons += 1\n",
        "\n",
        "    @classmethod\n",
        "    def count_total_persons(cls):\n",
        "        # Return the total number of Person instances created\n",
        "        return cls.total_persons\n",
        "\n",
        "person1 = Person(\"Alice\", 30)\n",
        "person2 = Person(\"Bob\", 25)\n",
        "person3 = Person(\"Charlie\", 35)\n",
        "\n",
        "print(Person.count_total_persons())\n"
      ],
      "metadata": {
        "colab": {
          "base_uri": "https://localhost:8080/"
        },
        "id": "Hcvr0j0NxlG4",
        "outputId": "0444cfd3-1498-4a0a-d1ea-59d4af146494"
      },
      "execution_count": 32,
      "outputs": [
        {
          "output_type": "stream",
          "name": "stdout",
          "text": [
            "3\n"
          ]
        }
      ]
    },
    {
      "cell_type": "markdown",
      "source": [
        "## 9.  Write a class Fraction with attributes numerator and denominator. Override the str method to display the fraction as \"numerator/denominator\".\n",
        "\n",
        "** Python class Fraction with numerator and denominator attributes and an overridden __str__ method to display the fraction in the format \"numerator/denominator\":"
      ],
      "metadata": {
        "id": "9PZ4sEa8zCyG"
      }
    },
    {
      "cell_type": "code",
      "source": [
        "class Fraction:\n",
        "    def __init__(self, numerator, denominator):\n",
        "        self.numerator = numerator\n",
        "        self.denominator = denominator\n",
        "\n",
        "    def __str__(self):\n",
        "        return f\"{self.numerator}/{self.denominator}\"\n",
        "\n",
        "fraction = Fraction(3, 4)\n",
        "print(fraction)"
      ],
      "metadata": {
        "colab": {
          "base_uri": "https://localhost:8080/"
        },
        "id": "Lrzo_k7jy7aL",
        "outputId": "5c64fcb6-7f69-40f5-ab77-29f6fb7723c9"
      },
      "execution_count": 33,
      "outputs": [
        {
          "output_type": "stream",
          "name": "stdout",
          "text": [
            "3/4\n"
          ]
        }
      ]
    },
    {
      "cell_type": "markdown",
      "source": [
        "## 10.  Demonstrate operator overloading by creating a class Vector and overriding the add method to add two vectors.\n",
        "\n",
        "** Operator overloading in Python allows you to define how operators behave for custom classes. In this case, we can overload the + operator to add two vectors. This involves overriding the __add__ method in the Vector class."
      ],
      "metadata": {
        "id": "VN9XlK61zhY-"
      }
    },
    {
      "cell_type": "code",
      "source": [
        "class Vector:\n",
        "    def __init__(self, x, y):\n",
        "        self.x = x\n",
        "        self.y = y\n",
        "\n",
        "    # Overloading the + operator\n",
        "    def __add__(self, other):\n",
        "        if isinstance(other, Vector):\n",
        "            return Vector(self.x + other.x, self.y + other.y)\n",
        "        else:\n",
        "            raise TypeError(\"Operand must be an instance of Vector\")\n",
        "\n",
        "    def __repr__(self):\n",
        "        return f\"Vector({self.x}, {self.y})\"\n",
        "\n",
        "v1 = Vector(1, 2)\n",
        "v2 = Vector(3, 4)\n",
        "\n",
        "v3 = v1 + v2  # This will call the __add__ method\n",
        "\n",
        "print(f\"v1 + v2 = {v3}\")"
      ],
      "metadata": {
        "colab": {
          "base_uri": "https://localhost:8080/"
        },
        "id": "ZtM8wKhBzY_o",
        "outputId": "3c0f5291-2b2d-4274-a401-bbf6a2878685"
      },
      "execution_count": 34,
      "outputs": [
        {
          "output_type": "stream",
          "name": "stdout",
          "text": [
            "v1 + v2 = Vector(4, 6)\n"
          ]
        }
      ]
    },
    {
      "cell_type": "markdown",
      "source": [
        "## 11.  Create a class Person with attributes name and age. Add a method greet() that prints \"Hello, my name is {name} and I am {age} years old."
      ],
      "metadata": {
        "id": "COEy9bet0Geb"
      }
    },
    {
      "cell_type": "code",
      "source": [
        "class Person:\n",
        "    def __init__(self, name, age):\n",
        "        self.name = name\n",
        "        self.age = age\n",
        "\n",
        "    def greet(self):\n",
        "        print(f\"Hello, my name is {self.name} and I am {self.age} years old.\")\n",
        "person = Person(\"John\", 30)\n",
        "person.greet()"
      ],
      "metadata": {
        "colab": {
          "base_uri": "https://localhost:8080/"
        },
        "id": "MBXGiCWgz3GV",
        "outputId": "9ecb9d24-0122-4b60-eb64-426bd3b177fd"
      },
      "execution_count": 35,
      "outputs": [
        {
          "output_type": "stream",
          "name": "stdout",
          "text": [
            "Hello, my name is John and I am 30 years old.\n"
          ]
        }
      ]
    },
    {
      "cell_type": "markdown",
      "source": [
        "## 12.  Implement a class Student with attributes name and grades. Create a method average_grade() to compute the average of the grades.\n",
        "\n",
        "\n",
        "** implementation of a Student class in Python that includes attributes for the student's name and grades. The class also has a method called average_grade() to compute the average of the grades:"
      ],
      "metadata": {
        "id": "mwBeJkbL0dnd"
      }
    },
    {
      "cell_type": "code",
      "source": [
        "class Student:\n",
        "    def __init__(self, name, grades):\n",
        "        self.name = name\n",
        "        self.grades = grades\n",
        "\n",
        "    def average_grade(self):\n",
        "        if len(self.grades) == 0:\n",
        "            return 0  # Avoid division by zero if no grades are provided\n",
        "        return sum(self.grades) / len(self.grades)\n",
        "\n",
        "student = Student(\"Alice\", [85, 90, 78, 92, 88])\n",
        "print(f\"{student.name}'s average grade is: {student.average_grade():.2f}\")\n"
      ],
      "metadata": {
        "colab": {
          "base_uri": "https://localhost:8080/"
        },
        "id": "IlMOz_Nw0aX_",
        "outputId": "75a2f211-0ef9-4d43-c828-38b005fd0b25"
      },
      "execution_count": 37,
      "outputs": [
        {
          "output_type": "stream",
          "name": "stdout",
          "text": [
            "Alice's average grade is: 86.60\n"
          ]
        }
      ]
    },
    {
      "cell_type": "markdown",
      "source": [
        "## 13.  Create a class Rectangle with methods set_dimensions() to set the dimensions and area() to calculate the area."
      ],
      "metadata": {
        "id": "ooCAbScm0_0J"
      }
    },
    {
      "cell_type": "code",
      "source": [
        "class Rectangle:\n",
        "    def __init__(self):\n",
        "        self.length = 0\n",
        "        self.width = 0\n",
        "\n",
        "    def set_dimensions(self, length, width):\n",
        "        \"\"\"Set the dimensions of the rectangle.\"\"\"\n",
        "        self.length = length\n",
        "        self.width = width\n",
        "\n",
        "    def area(self):\n",
        "        \"\"\"Calculate the area of the rectangle.\"\"\"\n",
        "        return self.length * self.width\n",
        "\n",
        "# Create a rectangle object\n",
        "rect = Rectangle()\n",
        "\n",
        "# Set dimensions of the rectangle\n",
        "rect.set_dimensions(5, 3)\n",
        "\n",
        "# Calculate and print the area\n",
        "print(f\"The area of the rectangle is: {rect.area()}\")\n"
      ],
      "metadata": {
        "colab": {
          "base_uri": "https://localhost:8080/"
        },
        "id": "ydL4_hMu0zk3",
        "outputId": "684c790f-b306-4507-d6d7-37bb934fa8a3"
      },
      "execution_count": 39,
      "outputs": [
        {
          "output_type": "stream",
          "name": "stdout",
          "text": [
            "The area of the rectangle is: 15\n"
          ]
        }
      ]
    },
    {
      "cell_type": "markdown",
      "source": [
        "__init__: Initializes the rectangle with default values of length and width set to 0.\n",
        "\n",
        "set_dimensions(): This method allows you to set the length and width of the rectangle.\n",
        "\n",
        "area(): This method calculates and returns the area of the rectangle (length * width)."
      ],
      "metadata": {
        "id": "mLoku6sL1qPy"
      }
    },
    {
      "cell_type": "markdown",
      "source": [
        "## 14.  Create a class Employee with a method calculate_salary() that computes the salary based on hours worked and hourly rate. Create a derived class Manager that adds a bonus to the salary."
      ],
      "metadata": {
        "id": "C0YBAud31vXW"
      }
    },
    {
      "cell_type": "code",
      "source": [
        "class Employee:\n",
        "    def __init__(self, name, hours_worked, hourly_rate):\n",
        "        self.name = name\n",
        "        self.hours_worked = hours_worked\n",
        "        self.hourly_rate = hourly_rate\n",
        "\n",
        "    def calculate_salary(self):\n",
        "        # Basic salary calculation\n",
        "        return self.hours_worked * self.hourly_rate\n",
        "\n",
        "\n",
        "class Manager(Employee):\n",
        "    def __init__(self, name, hours_worked, hourly_rate, bonus):\n",
        "        # Initialize the Employee class with the common attributes\n",
        "        super().__init__(name, hours_worked, hourly_rate)\n",
        "        self.bonus = bonus\n",
        "\n",
        "    def calculate_salary(self):\n",
        "        # Calculate the base salary from Employee class and add the bonus\n",
        "        base_salary = super().calculate_salary()\n",
        "        return base_salary + self.bonus\n",
        "\n",
        "\n",
        "# Example usage\n",
        "employee = Employee(\"John\", 40, 25)  # 40 hours, ₹25 per hour\n",
        "manager = Manager(\"Alice\", 45, 30, 500)  # 45 hours, ₹30 per hour, ₹500 bonus\n",
        "\n",
        "print(f\"Employee {employee.name}'s salary: ₹{employee.calculate_salary()}\")\n",
        "print(f\"Manager {manager.name}'s salary: ₹{manager.calculate_salary()}\")\n"
      ],
      "metadata": {
        "colab": {
          "base_uri": "https://localhost:8080/"
        },
        "id": "GKkK0Pxh1Vj1",
        "outputId": "6b6fdfdd-dc23-46a3-edb6-96ef5e8b818f"
      },
      "execution_count": 40,
      "outputs": [
        {
          "output_type": "stream",
          "name": "stdout",
          "text": [
            "Employee John's salary: ₹1000\n",
            "Manager Alice's salary: ₹1850\n"
          ]
        }
      ]
    },
    {
      "cell_type": "markdown",
      "source": [
        "## 15.  Create a class Product with attributes name, price, and quantity. Implement a method total_price() that calculates the total price of the product."
      ],
      "metadata": {
        "id": "LzNYziNo2goV"
      }
    },
    {
      "cell_type": "code",
      "source": [
        "class Product:\n",
        "    def __init__(self, name, price, quantity):\n",
        "        self.name = name\n",
        "        self.price = price\n",
        "        self.quantity = quantity\n",
        "\n",
        "    def total_price(self):\n",
        "        return self.price * self.quantity\n",
        "\n",
        "product1 = Product(\"Laptop\", 1000, 5)\n",
        "print(f\"Total price for {product1.name}: ₹{product1.total_price()}\")\n"
      ],
      "metadata": {
        "colab": {
          "base_uri": "https://localhost:8080/"
        },
        "id": "Cj6nghOG2WMJ",
        "outputId": "88e4786f-48bd-4af3-908f-f860e507c559"
      },
      "execution_count": 42,
      "outputs": [
        {
          "output_type": "stream",
          "name": "stdout",
          "text": [
            "Total price for Laptop: ₹5000\n"
          ]
        }
      ]
    },
    {
      "cell_type": "markdown",
      "source": [
        "## 16.  Create a class Animal with an abstract method sound(). Create two derived classes Cow and Sheep that implement the sound() method.\n",
        "\n",
        "** implementation of the class Animal with an abstract method sound(), and two derived classes Cow and Sheep that implement this method:"
      ],
      "metadata": {
        "id": "63M0UHJK3CQW"
      }
    },
    {
      "cell_type": "code",
      "source": [
        "from abc import ABC, abstractmethod\n",
        "\n",
        "# Abstract base class\n",
        "class Animal(ABC):\n",
        "\n",
        "    @abstractmethod\n",
        "    def sound(self):\n",
        "        pass\n",
        "\n",
        "# Derived class Cow\n",
        "class Cow(Animal):\n",
        "    def sound(self):\n",
        "        return \"Moo\"\n",
        "\n",
        "# Derived class Sheep\n",
        "class Sheep(Animal):\n",
        "    def sound(self):\n",
        "        return \"Baa\"\n",
        "\n",
        "if __name__ == \"__main__\":\n",
        "    cow = Cow()\n",
        "    sheep = Sheep()\n",
        "\n",
        "    print(f\"The cow says: {cow.sound()}\")\n",
        "    print(f\"The sheep says: {sheep.sound()}\")\n"
      ],
      "metadata": {
        "colab": {
          "base_uri": "https://localhost:8080/"
        },
        "id": "9sojVgDW21hy",
        "outputId": "b9f5dfa6-9924-4549-c952-dd6a71905439"
      },
      "execution_count": 43,
      "outputs": [
        {
          "output_type": "stream",
          "name": "stdout",
          "text": [
            "The cow says: Moo\n",
            "The sheep says: Baa\n"
          ]
        }
      ]
    },
    {
      "cell_type": "markdown",
      "source": [
        "## 17. Create a class Book with attributes title, author, and year_published. Add a method get_book_info() that returns a formatted string with the book's details.\n",
        "\n",
        "** Python class Book that has the attributes title, author, and year_published, along with a method get_book_info() to return a formatted string containing the book's details:"
      ],
      "metadata": {
        "id": "7qKF3Stz3r9C"
      }
    },
    {
      "cell_type": "code",
      "source": [
        "class Book:\n",
        "    def __init__(self, title, author, year_published):\n",
        "        self.title = title\n",
        "        self.author = author\n",
        "        self.year_published = year_published\n",
        "\n",
        "    def get_book_info(self):\n",
        "        return f\"'{self.title}' by {self.author}, published in {self.year_published}\"\n",
        "\n",
        "book = Book(\"1984\", \"George Orwell\", 1949)\n",
        "print(book.get_book_info())\n"
      ],
      "metadata": {
        "colab": {
          "base_uri": "https://localhost:8080/"
        },
        "id": "9aRtHn443aLX",
        "outputId": "ca45518c-56b7-44ae-acf4-1c9207e053f8"
      },
      "execution_count": 44,
      "outputs": [
        {
          "output_type": "stream",
          "name": "stdout",
          "text": [
            "'1984' by George Orwell, published in 1949\n"
          ]
        }
      ]
    },
    {
      "cell_type": "markdown",
      "source": [
        "## 18.  Create a class House with attributes address and price. Create a derived class Mansion that adds an attribute number_of_rooms.\n",
        "\n",
        "** House class with attributes address and price, and a derived class Mansion that adds an additional attribute number_of_rooms:\n"
      ],
      "metadata": {
        "id": "OrGwUvCi4MYL"
      }
    },
    {
      "cell_type": "code",
      "source": [
        "# Base class House\n",
        "class House:\n",
        "    def __init__(self, address, price):\n",
        "        self.address = address\n",
        "        self.price = price\n",
        "\n",
        "    def display_info(self):\n",
        "        print(f\"House Address: {self.address}\")\n",
        "        print(f\"Price: ₹{self.price}\")\n",
        "\n",
        "# Derived class Mansion\n",
        "class Mansion(House):\n",
        "    def __init__(self, address, price, number_of_rooms):\n",
        "        # Calling the constructor of the parent class (House)\n",
        "        super().__init__(address, price)\n",
        "        self.number_of_rooms = number_of_rooms\n",
        "\n",
        "    def display_info(self):\n",
        "        # Calling the parent class method and extending it\n",
        "        super().display_info()\n",
        "        print(f\"Number of Rooms: {self.number_of_rooms}\")\n",
        "\n",
        "house = House(\"123 Elm Street\", 250000)\n",
        "house.display_info()\n",
        "\n",
        "print(\"\\n---Mansion Info---\")\n",
        "mansion = Mansion(\"456 5th Avenue\", 5000000, 15)\n",
        "mansion.display_info()\n"
      ],
      "metadata": {
        "colab": {
          "base_uri": "https://localhost:8080/"
        },
        "id": "nD18KHAB4CEv",
        "outputId": "d535e13f-3bff-4e09-dfe1-b4c377f6b9b2"
      },
      "execution_count": 46,
      "outputs": [
        {
          "output_type": "stream",
          "name": "stdout",
          "text": [
            "House Address: 123 Elm Street\n",
            "Price: ₹250000\n",
            "\n",
            "---Mansion Info---\n",
            "House Address: 456 5th Avenue\n",
            "Price: ₹5000000\n",
            "Number of Rooms: 15\n"
          ]
        }
      ]
    },
    {
      "cell_type": "code",
      "source": [],
      "metadata": {
        "id": "v7C142pO4xas"
      },
      "execution_count": null,
      "outputs": []
    }
  ]
}